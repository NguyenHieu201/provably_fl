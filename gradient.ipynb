{
 "cells": [
  {
   "cell_type": "code",
   "execution_count": 131,
   "metadata": {},
   "outputs": [],
   "source": [
    "from typing import Iterator\n",
    "from torch.nn.parameter import Parameter\n",
    "import torch.nn as nn\n",
    "import os\n",
    "import pandas as pd\n",
    "import numpy as np\n",
    "from tqdm import tqdm\n",
    "from algorithm.fedprob_utils.smooth import Smooth\n",
    "import utils.fflow as flw\n",
    "import torch\n",
    "import multiprocessing\n",
    "import pickle\n",
    "import matplotlib.pyplot as plt\n",
    "import ujson\n",
    "import random\n",
    "import json\n",
    "import pickle as pk\n",
    "\n",
    "# Settings\n",
    "fedtask = \"cifar10_cnum100_dist10_skew0.1_seed0\"\n",
    "record_path = '/mnt/disk1/naver/hieunguyen/provably_fl/fedtask/cifar10_cnum100_dist10_skew0.1_seed0/record/fedprob_N_0.25Mresnet18_R600_B10_E5_LR0.0500_P0.10_S0_LD-0.002_WD0.000_DR0.00_AC99999.00.json'\n",
    "# model_path = '/mnt/disk1/naver/hieunguyen/provably_fl/fedtask/cifar10_cnum100_dist8_skew0.1_seed0/record/fedprob_N_0.25Mresnet18_R300_B10_E5_LR0.0500_P0.10_S0_LD-0.002_WD0.000_DR0.00_AC99999.00.json.pkl'\n",
    "record = json.load(open(record_path, \"r\", encoding=\"utf-8\"))\n",
    "options = record['meta']"
   ]
  },
  {
   "cell_type": "code",
   "execution_count": 132,
   "metadata": {},
   "outputs": [],
   "source": [
    "options['gpu'] = 2\n",
    "options['server_gpu_id'] = 2"
   ]
  },
  {
   "cell_type": "code",
   "execution_count": 133,
   "metadata": {},
   "outputs": [
    {
     "name": "stdout",
     "output_type": "stream",
     "text": [
      "init fedtask...done\n",
      "init clients...done\n",
      "init server...done\n"
     ]
    }
   ],
   "source": [
    "# load server\n",
    "# read options\n",
    "os.environ['MASTER_ADDR'] = \"localhost\"\n",
    "os.environ['MASTER_PORT'] = '8888'\n",
    "os.environ['WORLD_SIZE'] = str(3)\n",
    "# set random seed\n",
    "flw.setup_seed(options['seed'])\n",
    "# initialize server\n",
    "server = flw.initialize(options)"
   ]
  },
  {
   "cell_type": "code",
   "execution_count": 134,
   "metadata": {},
   "outputs": [
    {
     "name": "stderr",
     "output_type": "stream",
     "text": [
      "100%|██████████| 100/100 [06:26<00:00,  3.86s/it]\n"
     ]
    }
   ],
   "source": [
    "import copy\n",
    "model_pool = []\n",
    "for client in tqdm(server.clients):\n",
    "    model = copy.deepcopy(server.model)\n",
    "    # model = model.to(\"cuda:1\")\n",
    "    client.train(model)\n",
    "    model = model.to('cpu')\n",
    "    model_pool.append(model)"
   ]
  },
  {
   "cell_type": "code",
   "execution_count": 135,
   "metadata": {},
   "outputs": [],
   "source": [
    "server.model = server.model.to('cpu')"
   ]
  },
  {
   "cell_type": "code",
   "execution_count": 136,
   "metadata": {},
   "outputs": [],
   "source": [
    "fc_weight_pool = []\n",
    "for model in model_pool:\n",
    "    fc_weight, fc_bias = [param for param in model.fc.parameters()]\n",
    "    fc_weight_concat = torch.concat([fc_weight, fc_bias.unsqueeze(-1)], dim=1)\n",
    "    fc_weight_pool.append(fc_weight_concat)\n",
    "    \n",
    "server_fc_weight, server_fc_bias = [param for param in server.model.fc.parameters()]\n",
    "server_fc_weight = torch.concat([server_fc_weight, server_fc_bias.unsqueeze(-1)], dim=1)"
   ]
  },
  {
   "cell_type": "code",
   "execution_count": 137,
   "metadata": {},
   "outputs": [],
   "source": [
    "clien_fc_gradient = []\n",
    "for client_fc_weight in fc_weight_pool:\n",
    "    fc_layer_gradient = client_fc_weight - server_fc_weight\n",
    "    clien_fc_gradient.append(fc_layer_gradient)"
   ]
  },
  {
   "cell_type": "code",
   "execution_count": 138,
   "metadata": {},
   "outputs": [],
   "source": [
    "client_similarity = torch.zeros(size=(100, 100))\n",
    "# for i in range(100):\n",
    "\n",
    "flat_client_gradient = []\n",
    "for client_gradient in clien_fc_gradient:\n",
    "    flat_client_gradient.append(client_gradient.flatten())\n",
    "    \n",
    "for i, flat_grad_i in enumerate(flat_client_gradient):\n",
    "    for j, flat_grad_j in enumerate(flat_client_gradient):\n",
    "        client_similarity[i, j] = torch.nn.functional.cosine_similarity(flat_grad_i, flat_grad_j, dim=0)\n",
    "        "
   ]
  },
  {
   "cell_type": "code",
   "execution_count": 139,
   "metadata": {},
   "outputs": [],
   "source": [
    "# assert False, \"Gradient ending from here\""
   ]
  },
  {
   "cell_type": "code",
   "execution_count": 140,
   "metadata": {},
   "outputs": [],
   "source": [
    "num_classes = 10\n",
    "num_clients = 100 "
   ]
  },
  {
   "cell_type": "code",
   "execution_count": 141,
   "metadata": {},
   "outputs": [],
   "source": [
    "server_labels = []\n",
    "client_labels = {}\n",
    "num_client = 0\n",
    "client_class_num = np.zeros((num_classes,))\n",
    "cnum_client = []\n",
    "\n",
    "for X, Y in server.test_data:\n",
    "    server_labels.append(Y)\n",
    "for client in server.clients:\n",
    "    client_labels[client.name] = []\n",
    "    for X, Y in client.train_data:\n",
    "        client_labels[client.name].append(Y.item())\n",
    "    num_client += len(client_labels[client.name])\n",
    "    class_num, bins = np.histogram(client_labels[client.name], range=[0, num_classes], bins=range(num_classes + 1))\n",
    "    \n",
    "    cnum_client.append(class_num)\n",
    "    client_class_num += class_num\n",
    "\n",
    "num_server = len(server_labels)\n",
    "\n",
    "server_class_num, bins = np.histogram(server_labels)"
   ]
  },
  {
   "cell_type": "code",
   "execution_count": 142,
   "metadata": {},
   "outputs": [],
   "source": [
    "PD = np.array(cnum_client)\n",
    "PD = PD / PD.sum(axis=0)\n",
    "PS = server_class_num / server_class_num.sum()\n",
    "PS = torch.Tensor(PS)\n",
    "client_num = np.array(cnum_client).sum(axis=1) / np.sum(np.array(cnum_client))\n",
    "client_num = torch.Tensor(client_num)"
   ]
  },
  {
   "cell_type": "code",
   "execution_count": 143,
   "metadata": {},
   "outputs": [],
   "source": [
    "client_server_sim = torch.zeros((100, 1))\n",
    "for i in range(num_clients):\n",
    "    PDi = torch.Tensor(PD[i])\n",
    "    client_server_sim[i] = torch.nn.functional.cosine_similarity(PDi, PS, dim=0)"
   ]
  },
  {
   "cell_type": "code",
   "execution_count": 144,
   "metadata": {},
   "outputs": [],
   "source": [
    "w = torch.linalg.solve(client_similarity, client_server_sim)"
   ]
  },
  {
   "cell_type": "code",
   "execution_count": 145,
   "metadata": {},
   "outputs": [],
   "source": [
    "server_certify_acc = torch.Tensor(np.array(record['server_certify_acc']))\n",
    "client_certify_acc = []\n",
    "for client in record['client_certify_acc']:\n",
    "    client_certify_acc.append(np.array(record['client_certify_acc'][client]))\n",
    "client_certify_acc = torch.Tensor(np.array(client_certify_acc))"
   ]
  },
  {
   "cell_type": "code",
   "execution_count": 146,
   "metadata": {},
   "outputs": [
    {
     "data": {
      "text/plain": [
       "<matplotlib.legend.Legend at 0x7f214003a6a0>"
      ]
     },
     "execution_count": 146,
     "metadata": {},
     "output_type": "execute_result"
    },
    {
     "data": {
      "image/png": "[encoded data removed]",
      "text/plain": [
       "<Figure size 640x480 with 1 Axes>"
      ]
     },
     "metadata": {},
     "output_type": "display_data"
    }
   ],
   "source": [
    "propsal = client_certify_acc.T @ (w / w.sum())\n",
    "volume_avg = client_certify_acc.T @ (client_num)\n",
    "test_radii = np.arange(0, 1.6, 0.1)\n",
    "plt.plot(test_radii, server_certify_acc.detach().numpy(), label=\"Ground truth\")\n",
    "plt.plot(test_radii, volume_avg.detach().numpy(), label=\"Volume-based aggregate\")\n",
    "plt.plot(test_radii, propsal.detach().numpy(), label=\"Propsal\")\n",
    "plt.xlabel(\"test radius\")\n",
    "plt.ylabel(\"certified accuracy\")\n",
    "plt.ylim(top=0.7)\n",
    "plt.legend()"
   ]
  },
  {
   "cell_type": "code",
   "execution_count": 147,
   "metadata": {},
   "outputs": [
    {
     "ename": "AssertionError",
     "evalue": "Idea 1 finish from here",
     "output_type": "error",
     "traceback": [
      "\u001b[0;31m---------------------------------------------------------------------------\u001b[0m",
      "\u001b[0;31mAssertionError\u001b[0m                            Traceback (most recent call last)",
      "\u001b[0;32m/tmp/ipykernel_2571/1583200502.py\u001b[0m in \u001b[0;36m<module>\u001b[0;34m\u001b[0m\n\u001b[0;32m----> 1\u001b[0;31m \u001b[0;32massert\u001b[0m \u001b[0;32mFalse\u001b[0m\u001b[0;34m,\u001b[0m \u001b[0;34m\"Idea 1 finish from here\"\u001b[0m\u001b[0;34m\u001b[0m\u001b[0;34m\u001b[0m\u001b[0m\n\u001b[0m",
      "\u001b[0;31mAssertionError\u001b[0m: Idea 1 finish from here"
     ]
    }
   ],
   "source": [
    "assert False, \"Idea 1 finish from here\""
   ]
  },
  {
   "attachments": {},
   "cell_type": "markdown",
   "metadata": {},
   "source": [
    "# Testing from here"
   ]
  },
  {
   "cell_type": "code",
   "execution_count": null,
   "metadata": {},
   "outputs": [],
   "source": [
    "server_labels = []\n",
    "client_labels = {}\n",
    "num_client = 0\n",
    "client_class_num = np.zeros((10,))\n",
    "cnum_client = []\n",
    "option_path = '/mnt/disk1/naver/hieunguyen/provably_fl/option_logs/cifar10_cnum100_dist8_skew0.1_seed0/fedprob_N_0.25Mresnet18_R300_B10_E5_LR0.0500_P0.10_S0_LD-0.002_WD0.000_DR0.00_AC99999.00.json'\n",
    "\n",
    "for X, Y in server.test_data:\n",
    "    server_labels.append(Y)\n",
    "for client in server.clients:\n",
    "    client_labels[client.name] = []\n",
    "    for X, Y in client.valid_data:\n",
    "        client_labels[client.name].append(Y.item())\n",
    "    num_client += len(client_labels[client.name])\n",
    "    class_num, bins = np.histogram(client_labels[client.name], range=[0, 10])\n",
    "    cnum_client.append(class_num)\n",
    "    client_class_num += class_num\n",
    "\n",
    "num_server = len(server_labels)\n",
    "\n",
    "server_class_num, bins = np.histogram(server_labels)\n",
    "\n",
    "records = os.listdir(option_path)\n",
    "record_server = \"Server.csv\"\n",
    "record_clients = os.listdir(option_path)\n",
    "record_clients.remove(record_server)\n",
    "\n",
    "test_radii = np.arange(0, 1.6, 0.1)\n",
    "\n",
    "\n",
    "def process_result(radii, record, labels, num_classes=10):\n",
    "    results = np.zeros((len(radii), num_classes))\n",
    "    radius = record['radius'].tolist()\n",
    "    correct = record['correct'].tolist()\n",
    "    for i in range(len(labels)):\n",
    "        if \"True\" in correct[i]:\n",
    "            results[:, labels[i]] += (radii <= radius[i]).astype(np.int32)\n",
    "    return results\n",
    "\n",
    "\n",
    "server_result = process_result(test_radii, pd.read_csv(\n",
    "    os.path.join(option_path, record_server)), server_labels, 10)\n",
    "client_results = []\n",
    "test = 0\n",
    "for client_name in client_labels.keys():\n",
    "    client_result = process_result(test_radii,\n",
    "                                   pd.read_csv(os.path.join(\n",
    "                                       option_path, client_name + \".csv\")),\n",
    "                                   client_labels[client_name],\n",
    "                                   10)\n",
    "    client_results.append(client_result)\n",
    "\n",
    "client_results = np.array(client_results)\n",
    "temp = client_results.copy()\n",
    "per_client_accuracy = (client_results.sum(axis=-1) /\n",
    "                       np.array(cnum_client).sum(axis=1, keepdims=True)).T\n",
    "client_class_results = client_results / \\\n",
    "    (np.expand_dims(np.array(cnum_client), axis=1).repeat(repeats=16, axis=1) + 1e-8)\n",
    "client_class_results = client_class_results.sum(axis=0) / 100\n",
    "client_results = np.sum(client_results, axis=0)\n",
    "\n",
    "\n",
    "server_cert_result = np.sum(server_result, axis=1) / np.sum(server_class_num)\n",
    "client_cert_result = np.sum(client_results, axis=1) / np.sum(client_class_num)\n",
    "\n",
    "client_class_accs = client_results / client_class_num\n",
    "# client_class_accs = client_class_results\n",
    "\n",
    "server_class_ratio = server_class_num / np.sum(server_class_num)\n",
    "client_class_ratio = client_class_num / np.sum(client_class_num)"
   ]
  },
  {
   "cell_type": "code",
   "execution_count": null,
   "metadata": {},
   "outputs": [],
   "source": [
    "import cvxpy as cp\n",
    "import torch\n",
    "from cvxpylayers.torch import CvxpyLayer\n",
    "\n",
    "# num_select_client = 50\n",
    "# A = np.array(cnum_client)\n",
    "# client_vols = A.sum(axis=1)\n",
    "# client_sort = (-client_vols).argsort()\n",
    "# selected_client = client_sort[:num_select_client]"
   ]
  },
  {
   "cell_type": "code",
   "execution_count": null,
   "metadata": {},
   "outputs": [],
   "source": [
    "def calc_min_and_max(Cr_tch: torch.Tensor, A_tch: torch.Tensor):\n",
    "    num_select_clients = Cr_tch.shape[0]\n",
    "    num_classes = A_tch.shape[1]\n",
    "    \n",
    "    x = cp.Variable(shape=(num_select_clients, 1))\n",
    "    Cr = cp.Parameter(shape=(num_select_clients, 1))\n",
    "    A = cp.Parameter(shape=(num_select_clients, num_classes))\n",
    "    B = torch.zeros((num_classes, 1)) + 0.1\n",
    "\n",
    "    constraints = [x >= 0, x <= 1, cp.sum(x) == 1, A.T @ x == B]\n",
    "    min_objective = cp.Minimize(Cr.T @ x)\n",
    "    max_objective = cp.Maximize(Cr.T @ x)\n",
    "\n",
    "    min_problem = cp.Problem(min_objective, constraints)\n",
    "    max_problem = cp.Problem(max_objective, constraints)\n",
    "    \n",
    "    min_layer = CvxpyLayer(min_problem, parameters=[Cr, A], variables=[x])\n",
    "    max_layer = CvxpyLayer(max_problem, parameters=[Cr, A], variables=[x])\n",
    "    min_solution, = min_layer(Cr_tch, A_tch)\n",
    "    max_solution, = max_layer(Cr_tch, A_tch)\n",
    "    \n",
    "    return min_solution, max_solution"
   ]
  },
  {
   "cell_type": "code",
   "execution_count": null,
   "metadata": {},
   "outputs": [],
   "source": [
    "C = torch.Tensor(per_client_accuracy)\n",
    "A = np.array(cnum_client)\n",
    "A_matrix = torch.Tensor(A)"
   ]
  },
  {
   "cell_type": "code",
   "execution_count": null,
   "metadata": {},
   "outputs": [
    {
     "name": "stdout",
     "output_type": "stream",
     "text": [
      "[0.796 0.187 0.011 0.003 0.001 0.001 0.001 0.    0.    0.   ]\n",
      "[0.         0.66666667 0.         0.33333333 0.         0.\n",
      " 0.         0.         0.         0.        ]\n"
     ]
    }
   ],
   "source": [
    "client_id = 25\n",
    "print(S_pool[client_id].detach().numpy().round(3))\n",
    "print(cnum_client[client_id] / cnum_client[client_id].sum())"
   ]
  },
  {
   "cell_type": "code",
   "execution_count": null,
   "metadata": {},
   "outputs": [],
   "source": [
    "from sklearn.metrics.pairwise import cosine_similarity\n",
    "A_matrix = torch.concat([S.unsqueeze(-1) for S in S_pool], dim=-1).T\n",
    "A_matrix = A_matrix.detach().numpy()\n",
    "cosine_dist = cosine_similarity(np.array(cnum_client))\n",
    "cosine_svd = cosine_similarity(A_matrix)"
   ]
  },
  {
   "cell_type": "code",
   "execution_count": null,
   "metadata": {},
   "outputs": [],
   "source": [
    "A_matrix = torch.Tensor(A_matrix)"
   ]
  },
  {
   "cell_type": "code",
   "execution_count": null,
   "metadata": {},
   "outputs": [
    {
     "name": "stdout",
     "output_type": "stream",
     "text": [
      "Please consider re-formulating your problem so that it is always solvable or increasing the number of solver iterations.\n"
     ]
    },
    {
     "ename": "SolverError",
     "evalue": "Solver scs returned status infeasible",
     "output_type": "error",
     "traceback": [
      "\u001b[0;31m---------------------------------------------------------------------------\u001b[0m",
      "\u001b[0;31mSolverError\u001b[0m                               Traceback (most recent call last)",
      "\u001b[0;32m/tmp/ipykernel_24061/2676983879.py\u001b[0m in \u001b[0;36m<module>\u001b[0;34m\u001b[0m\n\u001b[1;32m      7\u001b[0m     \u001b[0mA_tch\u001b[0m \u001b[0;34m=\u001b[0m \u001b[0mtorch\u001b[0m\u001b[0;34m.\u001b[0m\u001b[0mTensor\u001b[0m\u001b[0;34m(\u001b[0m\u001b[0mA_tch\u001b[0m\u001b[0;34m)\u001b[0m\u001b[0;34m\u001b[0m\u001b[0;34m\u001b[0m\u001b[0m\n\u001b[1;32m      8\u001b[0m \u001b[0;34m\u001b[0m\u001b[0m\n\u001b[0;32m----> 9\u001b[0;31m     \u001b[0mmin_solution\u001b[0m\u001b[0;34m,\u001b[0m \u001b[0mmax_solution\u001b[0m \u001b[0;34m=\u001b[0m \u001b[0mcalc_min_and_max\u001b[0m\u001b[0;34m(\u001b[0m\u001b[0mCr_tch\u001b[0m\u001b[0;34m,\u001b[0m \u001b[0mA_tch\u001b[0m\u001b[0;34m)\u001b[0m\u001b[0;34m\u001b[0m\u001b[0;34m\u001b[0m\u001b[0m\n\u001b[0m\u001b[1;32m     10\u001b[0m     \u001b[0mmin_optima\u001b[0m \u001b[0;34m=\u001b[0m \u001b[0mCr_tch\u001b[0m\u001b[0;34m.\u001b[0m\u001b[0mT\u001b[0m \u001b[0;34m@\u001b[0m \u001b[0mmin_solution\u001b[0m\u001b[0;34m\u001b[0m\u001b[0;34m\u001b[0m\u001b[0m\n\u001b[1;32m     11\u001b[0m     \u001b[0mmax_optima\u001b[0m \u001b[0;34m=\u001b[0m \u001b[0mCr_tch\u001b[0m\u001b[0;34m.\u001b[0m\u001b[0mT\u001b[0m \u001b[0;34m@\u001b[0m \u001b[0mmax_solution\u001b[0m\u001b[0;34m\u001b[0m\u001b[0;34m\u001b[0m\u001b[0m\n",
      "\u001b[0;32m/tmp/ipykernel_24061/3105649621.py\u001b[0m in \u001b[0;36mcalc_min_and_max\u001b[0;34m(Cr_tch, A_tch)\u001b[0m\n\u001b[1;32m     17\u001b[0m     \u001b[0mmin_layer\u001b[0m \u001b[0;34m=\u001b[0m \u001b[0mCvxpyLayer\u001b[0m\u001b[0;34m(\u001b[0m\u001b[0mmin_problem\u001b[0m\u001b[0;34m,\u001b[0m \u001b[0mparameters\u001b[0m\u001b[0;34m=\u001b[0m\u001b[0;34m[\u001b[0m\u001b[0mCr\u001b[0m\u001b[0;34m,\u001b[0m \u001b[0mA\u001b[0m\u001b[0;34m]\u001b[0m\u001b[0;34m,\u001b[0m \u001b[0mvariables\u001b[0m\u001b[0;34m=\u001b[0m\u001b[0;34m[\u001b[0m\u001b[0mx\u001b[0m\u001b[0;34m]\u001b[0m\u001b[0;34m)\u001b[0m\u001b[0;34m\u001b[0m\u001b[0;34m\u001b[0m\u001b[0m\n\u001b[1;32m     18\u001b[0m     \u001b[0mmax_layer\u001b[0m \u001b[0;34m=\u001b[0m \u001b[0mCvxpyLayer\u001b[0m\u001b[0;34m(\u001b[0m\u001b[0mmax_problem\u001b[0m\u001b[0;34m,\u001b[0m \u001b[0mparameters\u001b[0m\u001b[0;34m=\u001b[0m\u001b[0;34m[\u001b[0m\u001b[0mCr\u001b[0m\u001b[0;34m,\u001b[0m \u001b[0mA\u001b[0m\u001b[0;34m]\u001b[0m\u001b[0;34m,\u001b[0m \u001b[0mvariables\u001b[0m\u001b[0;34m=\u001b[0m\u001b[0;34m[\u001b[0m\u001b[0mx\u001b[0m\u001b[0;34m]\u001b[0m\u001b[0;34m)\u001b[0m\u001b[0;34m\u001b[0m\u001b[0;34m\u001b[0m\u001b[0m\n\u001b[0;32m---> 19\u001b[0;31m     \u001b[0mmin_solution\u001b[0m\u001b[0;34m,\u001b[0m \u001b[0;34m=\u001b[0m \u001b[0mmin_layer\u001b[0m\u001b[0;34m(\u001b[0m\u001b[0mCr_tch\u001b[0m\u001b[0;34m,\u001b[0m \u001b[0mA_tch\u001b[0m\u001b[0;34m)\u001b[0m\u001b[0;34m\u001b[0m\u001b[0;34m\u001b[0m\u001b[0m\n\u001b[0m\u001b[1;32m     20\u001b[0m     \u001b[0mmax_solution\u001b[0m\u001b[0;34m,\u001b[0m \u001b[0;34m=\u001b[0m \u001b[0mmax_layer\u001b[0m\u001b[0;34m(\u001b[0m\u001b[0mCr_tch\u001b[0m\u001b[0;34m,\u001b[0m \u001b[0mA_tch\u001b[0m\u001b[0;34m)\u001b[0m\u001b[0;34m\u001b[0m\u001b[0;34m\u001b[0m\u001b[0m\n\u001b[1;32m     21\u001b[0m \u001b[0;34m\u001b[0m\u001b[0m\n",
      "\u001b[0;32m~/miniconda3/envs/thangpv/lib/python3.9/site-packages/torch/nn/modules/module.py\u001b[0m in \u001b[0;36m_call_impl\u001b[0;34m(self, *input, **kwargs)\u001b[0m\n\u001b[1;32m   1128\u001b[0m         if not (self._backward_hooks or self._forward_hooks or self._forward_pre_hooks or _global_backward_hooks\n\u001b[1;32m   1129\u001b[0m                 or _global_forward_hooks or _global_forward_pre_hooks):\n\u001b[0;32m-> 1130\u001b[0;31m             \u001b[0;32mreturn\u001b[0m \u001b[0mforward_call\u001b[0m\u001b[0;34m(\u001b[0m\u001b[0;34m*\u001b[0m\u001b[0minput\u001b[0m\u001b[0;34m,\u001b[0m \u001b[0;34m**\u001b[0m\u001b[0mkwargs\u001b[0m\u001b[0;34m)\u001b[0m\u001b[0;34m\u001b[0m\u001b[0;34m\u001b[0m\u001b[0m\n\u001b[0m\u001b[1;32m   1131\u001b[0m         \u001b[0;31m# Do not call functions when jit is used\u001b[0m\u001b[0;34m\u001b[0m\u001b[0;34m\u001b[0m\u001b[0m\n\u001b[1;32m   1132\u001b[0m         \u001b[0mfull_backward_hooks\u001b[0m\u001b[0;34m,\u001b[0m \u001b[0mnon_full_backward_hooks\u001b[0m \u001b[0;34m=\u001b[0m \u001b[0;34m[\u001b[0m\u001b[0;34m]\u001b[0m\u001b[0;34m,\u001b[0m \u001b[0;34m[\u001b[0m\u001b[0;34m]\u001b[0m\u001b[0;34m\u001b[0m\u001b[0;34m\u001b[0m\u001b[0m\n",
      "\u001b[0;32m~/miniconda3/envs/thangpv/lib/python3.9/site-packages/cvxpylayers/torch/cvxpylayer.py\u001b[0m in \u001b[0;36mforward\u001b[0;34m(self, solver_args, *params)\u001b[0m\n\u001b[1;32m    151\u001b[0m             \u001b[0minfo\u001b[0m\u001b[0;34m=\u001b[0m\u001b[0minfo\u001b[0m\u001b[0;34m,\u001b[0m\u001b[0;34m\u001b[0m\u001b[0;34m\u001b[0m\u001b[0m\n\u001b[1;32m    152\u001b[0m         )\n\u001b[0;32m--> 153\u001b[0;31m         \u001b[0msol\u001b[0m \u001b[0;34m=\u001b[0m \u001b[0mf\u001b[0m\u001b[0;34m(\u001b[0m\u001b[0;34m*\u001b[0m\u001b[0mparams\u001b[0m\u001b[0;34m)\u001b[0m\u001b[0;34m\u001b[0m\u001b[0;34m\u001b[0m\u001b[0m\n\u001b[0m\u001b[1;32m    154\u001b[0m         \u001b[0mself\u001b[0m\u001b[0;34m.\u001b[0m\u001b[0minfo\u001b[0m \u001b[0;34m=\u001b[0m \u001b[0minfo\u001b[0m\u001b[0;34m\u001b[0m\u001b[0;34m\u001b[0m\u001b[0m\n\u001b[1;32m    155\u001b[0m         \u001b[0;32mreturn\u001b[0m \u001b[0msol\u001b[0m\u001b[0;34m\u001b[0m\u001b[0;34m\u001b[0m\u001b[0m\n",
      "\u001b[0;32m~/miniconda3/envs/thangpv/lib/python3.9/site-packages/cvxpylayers/torch/cvxpylayer.py\u001b[0m in \u001b[0;36mforward\u001b[0;34m(ctx, *params)\u001b[0m\n\u001b[1;32m    294\u001b[0m                     \u001b[0;34m\"it is always solvable or increasing the number of \"\u001b[0m\u001b[0;34m\u001b[0m\u001b[0;34m\u001b[0m\u001b[0m\n\u001b[1;32m    295\u001b[0m                     \"solver iterations.\")\n\u001b[0;32m--> 296\u001b[0;31m                 \u001b[0;32mraise\u001b[0m \u001b[0me\u001b[0m\u001b[0;34m\u001b[0m\u001b[0;34m\u001b[0m\u001b[0m\n\u001b[0m\u001b[1;32m    297\u001b[0m             \u001b[0minfo\u001b[0m\u001b[0;34m[\u001b[0m\u001b[0;34m'solve_time'\u001b[0m\u001b[0;34m]\u001b[0m \u001b[0;34m=\u001b[0m \u001b[0mtime\u001b[0m\u001b[0;34m.\u001b[0m\u001b[0mtime\u001b[0m\u001b[0;34m(\u001b[0m\u001b[0;34m)\u001b[0m \u001b[0;34m-\u001b[0m \u001b[0mstart\u001b[0m\u001b[0;34m\u001b[0m\u001b[0;34m\u001b[0m\u001b[0m\n\u001b[1;32m    298\u001b[0m \u001b[0;34m\u001b[0m\u001b[0m\n",
      "\u001b[0;32m~/miniconda3/envs/thangpv/lib/python3.9/site-packages/cvxpylayers/torch/cvxpylayer.py\u001b[0m in \u001b[0;36mforward\u001b[0;34m(ctx, *params)\u001b[0m\n\u001b[1;32m    287\u001b[0m             \u001b[0mstart\u001b[0m \u001b[0;34m=\u001b[0m \u001b[0mtime\u001b[0m\u001b[0;34m.\u001b[0m\u001b[0mtime\u001b[0m\u001b[0;34m(\u001b[0m\u001b[0;34m)\u001b[0m\u001b[0;34m\u001b[0m\u001b[0;34m\u001b[0m\u001b[0m\n\u001b[1;32m    288\u001b[0m             \u001b[0;32mtry\u001b[0m\u001b[0;34m:\u001b[0m\u001b[0;34m\u001b[0m\u001b[0;34m\u001b[0m\u001b[0m\n\u001b[0;32m--> 289\u001b[0;31m                 xs, _, _, _, ctx.DT_batch = diffcp.solve_and_derivative_batch(\n\u001b[0m\u001b[1;32m    290\u001b[0m                     As, bs, cs, cone_dicts, **solver_args)\n\u001b[1;32m    291\u001b[0m             \u001b[0;32mexcept\u001b[0m \u001b[0mdiffcp\u001b[0m\u001b[0;34m.\u001b[0m\u001b[0mSolverError\u001b[0m \u001b[0;32mas\u001b[0m \u001b[0me\u001b[0m\u001b[0;34m:\u001b[0m\u001b[0;34m\u001b[0m\u001b[0;34m\u001b[0m\u001b[0m\n",
      "\u001b[0;32m~/miniconda3/envs/thangpv/lib/python3.9/site-packages/diffcp/cone_program.py\u001b[0m in \u001b[0;36msolve_and_derivative_batch\u001b[0;34m(As, bs, cs, cone_dicts, n_jobs_forward, n_jobs_backward, mode, warm_starts, **kwargs)\u001b[0m\n\u001b[1;32m     78\u001b[0m         \u001b[0mxs\u001b[0m\u001b[0;34m,\u001b[0m \u001b[0mys\u001b[0m\u001b[0;34m,\u001b[0m \u001b[0mss\u001b[0m\u001b[0;34m,\u001b[0m \u001b[0mDs\u001b[0m\u001b[0;34m,\u001b[0m \u001b[0mDTs\u001b[0m \u001b[0;34m=\u001b[0m \u001b[0;34m[\u001b[0m\u001b[0;34m]\u001b[0m\u001b[0;34m,\u001b[0m \u001b[0;34m[\u001b[0m\u001b[0;34m]\u001b[0m\u001b[0;34m,\u001b[0m \u001b[0;34m[\u001b[0m\u001b[0;34m]\u001b[0m\u001b[0;34m,\u001b[0m \u001b[0;34m[\u001b[0m\u001b[0;34m]\u001b[0m\u001b[0;34m,\u001b[0m \u001b[0;34m[\u001b[0m\u001b[0;34m]\u001b[0m\u001b[0;34m\u001b[0m\u001b[0;34m\u001b[0m\u001b[0m\n\u001b[1;32m     79\u001b[0m         \u001b[0;32mfor\u001b[0m \u001b[0mi\u001b[0m \u001b[0;32min\u001b[0m \u001b[0mrange\u001b[0m\u001b[0;34m(\u001b[0m\u001b[0mbatch_size\u001b[0m\u001b[0;34m)\u001b[0m\u001b[0;34m:\u001b[0m\u001b[0;34m\u001b[0m\u001b[0;34m\u001b[0m\u001b[0m\n\u001b[0;32m---> 80\u001b[0;31m             x, y, s, D, DT = solve_and_derivative(As[i], bs[i], cs[i],\n\u001b[0m\u001b[1;32m     81\u001b[0m                                                   cone_dicts[i], warm_starts[i], mode=mode, **kwargs)\n\u001b[1;32m     82\u001b[0m             \u001b[0mxs\u001b[0m \u001b[0;34m+=\u001b[0m \u001b[0;34m[\u001b[0m\u001b[0mx\u001b[0m\u001b[0;34m]\u001b[0m\u001b[0;34m\u001b[0m\u001b[0;34m\u001b[0m\u001b[0m\n",
      "\u001b[0;32m~/miniconda3/envs/thangpv/lib/python3.9/site-packages/diffcp/cone_program.py\u001b[0m in \u001b[0;36msolve_and_derivative\u001b[0;34m(A, b, c, cone_dict, warm_start, mode, solve_method, **kwargs)\u001b[0m\n\u001b[1;32m    214\u001b[0m         \u001b[0mSolverError\u001b[0m\u001b[0;34m:\u001b[0m \u001b[0;32mif\u001b[0m \u001b[0mthe\u001b[0m \u001b[0mcone\u001b[0m \u001b[0mprogram\u001b[0m \u001b[0;32mis\u001b[0m \u001b[0minfeasible\u001b[0m \u001b[0;32mor\u001b[0m \u001b[0munbounded\u001b[0m\u001b[0;34m.\u001b[0m\u001b[0;34m\u001b[0m\u001b[0;34m\u001b[0m\u001b[0m\n\u001b[1;32m    215\u001b[0m     \"\"\"\n\u001b[0;32m--> 216\u001b[0;31m     result = solve_and_derivative_internal(\n\u001b[0m\u001b[1;32m    217\u001b[0m         \u001b[0mA\u001b[0m\u001b[0;34m,\u001b[0m \u001b[0mb\u001b[0m\u001b[0;34m,\u001b[0m \u001b[0mc\u001b[0m\u001b[0;34m,\u001b[0m \u001b[0mcone_dict\u001b[0m\u001b[0;34m,\u001b[0m \u001b[0mwarm_start\u001b[0m\u001b[0;34m=\u001b[0m\u001b[0mwarm_start\u001b[0m\u001b[0;34m,\u001b[0m \u001b[0mmode\u001b[0m\u001b[0;34m=\u001b[0m\u001b[0mmode\u001b[0m\u001b[0;34m,\u001b[0m\u001b[0;34m\u001b[0m\u001b[0;34m\u001b[0m\u001b[0m\n\u001b[1;32m    218\u001b[0m         solve_method=solve_method, **kwargs)\n",
      "\u001b[0;32m~/miniconda3/envs/thangpv/lib/python3.9/site-packages/diffcp/cone_program.py\u001b[0m in \u001b[0;36msolve_and_derivative_internal\u001b[0;34m(A, b, c, cone_dict, solve_method, warm_start, mode, raise_on_error, **kwargs)\u001b[0m\n\u001b[1;32m    296\u001b[0m         \u001b[0;32melif\u001b[0m \u001b[0mstatus\u001b[0m\u001b[0;34m.\u001b[0m\u001b[0mlower\u001b[0m\u001b[0;34m(\u001b[0m\u001b[0;34m)\u001b[0m \u001b[0;34m!=\u001b[0m \u001b[0;34m\"solved\"\u001b[0m\u001b[0;34m:\u001b[0m\u001b[0;34m\u001b[0m\u001b[0;34m\u001b[0m\u001b[0m\n\u001b[1;32m    297\u001b[0m             \u001b[0;32mif\u001b[0m \u001b[0mraise_on_error\u001b[0m\u001b[0;34m:\u001b[0m\u001b[0;34m\u001b[0m\u001b[0;34m\u001b[0m\u001b[0m\n\u001b[0;32m--> 298\u001b[0;31m                 \u001b[0;32mraise\u001b[0m \u001b[0mSolverError\u001b[0m\u001b[0;34m(\u001b[0m\u001b[0;34m\"Solver scs returned status %s\"\u001b[0m \u001b[0;34m%\u001b[0m \u001b[0mstatus\u001b[0m\u001b[0;34m)\u001b[0m\u001b[0;34m\u001b[0m\u001b[0;34m\u001b[0m\u001b[0m\n\u001b[0m\u001b[1;32m    299\u001b[0m             \u001b[0;32melse\u001b[0m\u001b[0;34m:\u001b[0m\u001b[0;34m\u001b[0m\u001b[0;34m\u001b[0m\u001b[0m\n\u001b[1;32m    300\u001b[0m                 \u001b[0mresult\u001b[0m\u001b[0;34m[\u001b[0m\u001b[0;34m\"D\"\u001b[0m\u001b[0;34m]\u001b[0m \u001b[0;34m=\u001b[0m \u001b[0;32mNone\u001b[0m\u001b[0;34m\u001b[0m\u001b[0;34m\u001b[0m\u001b[0m\n",
      "\u001b[0;31mSolverError\u001b[0m: Solver scs returned status infeasible"
     ]
    }
   ],
   "source": [
    "min_cert = []\n",
    "max_cert = []\n",
    "mean_cert = []\n",
    "for i in range(test_radii.shape[0]):\n",
    "    Cr_tch = C[i].unsqueeze(-1)\n",
    "    A_tch = A_matrix / torch.sum(A_matrix, dim=1, keepdim=True)\n",
    "    A_tch = torch.Tensor(A_tch)\n",
    "\n",
    "    min_solution, max_solution = calc_min_and_max(Cr_tch, A_tch)\n",
    "    min_optima = Cr_tch.T @ min_solution\n",
    "    max_optima = Cr_tch.T @ max_solution\n",
    "    \n",
    "    min_cert.append(min_optima.item())\n",
    "    max_cert.append(max_optima.item())\n",
    "    mean_cert.append((min_cert[i] + max_cert[i]) / 2)"
   ]
  },
  {
   "cell_type": "code",
   "execution_count": null,
   "metadata": {},
   "outputs": [
    {
     "data": {
      "text/plain": [
       "<matplotlib.legend.Legend at 0x7f8004e93fd0>"
      ]
     },
     "execution_count": 80,
     "metadata": {},
     "output_type": "execute_result"
    },
    {
     "data": {
      "image/png": "[encoded data removed]",
      "text/plain": [
       "<Figure size 640x480 with 1 Axes>"
      ]
     },
     "metadata": {},
     "output_type": "display_data"
    }
   ],
   "source": [
    "plt.plot(server_cert_result, label=\"Ground truth\")\n",
    "plt.plot(min_cert, label=\"Lower bound\")\n",
    "plt.plot(max_cert, label=\"Upper bound\")\n",
    "plt.plot(mean_cert, label=\"Mean\")\n",
    "plt.plot(client_cert_result, label=\"Client\")\n",
    "plt.legend()"
   ]
  },
  {
   "cell_type": "code",
   "execution_count": null,
   "metadata": {},
   "outputs": [],
   "source": []
  }
 ],
 "metadata": {
  "kernelspec": {
   "display_name": "thangpv",
   "language": "python",
   "name": "python3"
  },
  "language_info": {
   "codemirror_mode": {
    "name": "ipython",
    "version": 3
   },
   "file_extension": ".py",
   "mimetype": "text/x-python",
   "name": "python",
   "nbconvert_exporter": "python",
   "pygments_lexer": "ipython3",
   "version": "3.9.13"
  },
  "orig_nbformat": 4
 },
 "nbformat": 4,
 "nbformat_minor": 2
}
