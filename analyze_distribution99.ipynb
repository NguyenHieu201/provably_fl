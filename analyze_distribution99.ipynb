{
 "cells": [
  {
   "cell_type": "code",
   "execution_count": 1,
   "metadata": {},
   "outputs": [
    {
     "name": "stdout",
     "output_type": "stream",
     "text": [
      "init fedtask...done\n",
      "init clients...done\n",
      "init server...done\n"
     ]
    }
   ],
   "source": [
    "from typing import Iterator\n",
    "from torch.nn.parameter import Parameter\n",
    "import torch.nn as nn\n",
    "import os\n",
    "import pandas as pd\n",
    "import numpy as np\n",
    "from tqdm import tqdm\n",
    "from algorithm.fedprob_utils.smooth import Smooth\n",
    "import utils.fflow as flw\n",
    "import torch\n",
    "import multiprocessing\n",
    "import pickle\n",
    "import matplotlib.pyplot as plt\n",
    "import ujson\n",
    "import random\n",
    "\n",
    "\n",
    "# Settings\n",
    "fedtask = \"cifar100_cnum50_distcluster_skew0.5_seed0\"\n",
    "record_path = '/mnt/disk1/naver/hieunguyen/provably_fl/fedtask/cifar100_cnum50_distcluster_skew0.5_seed0/record/fedprob_N_0.25Mresnet18_R300_B10_E5_LR0.0500_P0.10_S0_LD-0.002_WD0.000_DR0.00_AC99999.00.json'\n",
    "algorithm = \"fedprob\"\n",
    "model = \"resnet18\"\n",
    "sigma = 0.25\n",
    "num_epochs = 5\n",
    "lr = 0.05\n",
    "gpu_id = -1\n",
    "option = {\n",
    "    \"task\": fedtask,\n",
    "    \"algorithm\": algorithm,\n",
    "    \"model\": model,\n",
    "    \"sample\": \"uniform\",\n",
    "    \"aggregate\": \"none\",\n",
    "    \"learning_rate_decay\": 0.998,\n",
    "    \"weight_decay\": 0,\n",
    "    \"lr_scheduler\": -1,\n",
    "    \"sigma\": sigma,\n",
    "    \"num_rounds\": 20,\n",
    "    \"proportion\": 0.2,\n",
    "    \"num_epochs\": num_epochs,\n",
    "    \"learning_rate\": lr,\n",
    "    \"batch_size\": 64,\n",
    "    \"optimizer\": \"SGD\",\n",
    "    \"momentum\": 0,\n",
    "    \"seed\": 0,\n",
    "    \"eval_interval\": 1,\n",
    "    \"num_threads\": 1,\n",
    "    \"num_threads_per_gpu\": 1,\n",
    "    \"num_gpus\": 3,\n",
    "    \"gpu\": 0,\n",
    "    \"net_drop\": 0,\n",
    "    \"net_active\": 99999,\n",
    "    \"capability\": 0,\n",
    "    \"learning_rate_lambda\": 0,\n",
    "    \"q\": 0.0,\n",
    "    \"epsilon\": 0.0,\n",
    "    \"eta\": 1.0,\n",
    "    \"tau\": 0,\n",
    "    \"alpha\": 0.0,\n",
    "    \"beta\": 1.0,\n",
    "    \"gamma\": 0.0,\n",
    "    \"mu\": 0.1,\n",
    "    \"server_gpu_id\": gpu_id,\n",
    "}\n",
    "\n",
    "# load server\n",
    "# read options\n",
    "os.environ['MASTER_ADDR'] = \"localhost\"\n",
    "os.environ['MASTER_PORT'] = '8888'\n",
    "os.environ['WORLD_SIZE'] = str(3)\n",
    "# set random seed\n",
    "flw.setup_seed(option['seed'])\n",
    "# initialize server\n",
    "server = flw.initialize(option)\n"
   ]
  },
  {
   "cell_type": "code",
   "execution_count": 6,
   "metadata": {},
   "outputs": [
    {
     "ename": "ValueError",
     "evalue": "operands could not be broadcast together with shapes (100,) (10,) (100,) ",
     "output_type": "error",
     "traceback": [
      "\u001b[0;31m---------------------------------------------------------------------------\u001b[0m",
      "\u001b[0;31mValueError\u001b[0m                                Traceback (most recent call last)",
      "\u001b[0;32m/tmp/ipykernel_1624/3566508506.py\u001b[0m in \u001b[0;36m<module>\u001b[0;34m\u001b[0m\n\u001b[1;32m     14\u001b[0m     \u001b[0mclass_num\u001b[0m\u001b[0;34m,\u001b[0m \u001b[0mbins\u001b[0m \u001b[0;34m=\u001b[0m \u001b[0mnp\u001b[0m\u001b[0;34m.\u001b[0m\u001b[0mhistogram\u001b[0m\u001b[0;34m(\u001b[0m\u001b[0mclient_labels\u001b[0m\u001b[0;34m[\u001b[0m\u001b[0mclient\u001b[0m\u001b[0;34m.\u001b[0m\u001b[0mname\u001b[0m\u001b[0;34m]\u001b[0m\u001b[0;34m,\u001b[0m \u001b[0mrange\u001b[0m\u001b[0;34m=\u001b[0m\u001b[0;34m[\u001b[0m\u001b[0;36m0\u001b[0m\u001b[0;34m,\u001b[0m \u001b[0;36m100\u001b[0m\u001b[0;34m]\u001b[0m\u001b[0;34m)\u001b[0m\u001b[0;34m\u001b[0m\u001b[0;34m\u001b[0m\u001b[0m\n\u001b[1;32m     15\u001b[0m     \u001b[0mcnum_client\u001b[0m\u001b[0;34m.\u001b[0m\u001b[0mappend\u001b[0m\u001b[0;34m(\u001b[0m\u001b[0mclass_num\u001b[0m\u001b[0;34m)\u001b[0m\u001b[0;34m\u001b[0m\u001b[0;34m\u001b[0m\u001b[0m\n\u001b[0;32m---> 16\u001b[0;31m     \u001b[0mclient_class_num\u001b[0m \u001b[0;34m+=\u001b[0m \u001b[0mclass_num\u001b[0m\u001b[0;34m\u001b[0m\u001b[0;34m\u001b[0m\u001b[0m\n\u001b[0m\u001b[1;32m     17\u001b[0m \u001b[0;34m\u001b[0m\u001b[0m\n\u001b[1;32m     18\u001b[0m \u001b[0mnum_server\u001b[0m \u001b[0;34m=\u001b[0m \u001b[0mlen\u001b[0m\u001b[0;34m(\u001b[0m\u001b[0mserver_labels\u001b[0m\u001b[0;34m)\u001b[0m\u001b[0;34m\u001b[0m\u001b[0;34m\u001b[0m\u001b[0m\n",
      "\u001b[0;31mValueError\u001b[0m: operands could not be broadcast together with shapes (100,) (10,) (100,) "
     ]
    }
   ],
   "source": [
    "server_labels = []\n",
    "client_labels = {}\n",
    "num_client = 0\n",
    "client_class_num = np.zeros((100,))\n",
    "cnum_client = []\n",
    "\n",
    "for X, Y in server.test_data:\n",
    "    server_labels.append(Y)\n",
    "for client in server.clients:\n",
    "    client_labels[client.name] = []\n",
    "    for X, Y in client.valid_data:\n",
    "        client_labels[client.name].append(Y.item())\n",
    "    num_client += len(client_labels[client.name])\n",
    "    class_num, bins = np.histogram(client_labels[client.name], range=[0, 100])\n",
    "    cnum_client.append(class_num)\n",
    "    client_class_num += class_num\n",
    "\n",
    "num_server = len(server_labels)\n",
    "\n",
    "server_class_num, bins = np.histogram(server_labels)"
   ]
  },
  {
   "cell_type": "code",
   "execution_count": 7,
   "metadata": {},
   "outputs": [
    {
     "data": {
      "text/plain": [
       "((100,), (10,))"
      ]
     },
     "execution_count": 7,
     "metadata": {},
     "output_type": "execute_result"
    }
   ],
   "source": [
    "client_class_num.shape , class_num.shape"
   ]
  },
  {
   "cell_type": "code",
   "execution_count": 2,
   "metadata": {},
   "outputs": [],
   "source": [
    "import json\n",
    "record_data = json.load(open(record_path, \"r\"))\n",
    "record_data['client_certify_acc'].keys()\n",
    "per_client_accuracy = [np.array(record_data['client_certify_acc'][client_name]) for client_name in record_data['client_certify_acc'].keys()]\n",
    "per_client_accuracy = np.array(per_client_accuracy).T"
   ]
  },
  {
   "cell_type": "code",
   "execution_count": 3,
   "metadata": {},
   "outputs": [],
   "source": [
    "# A.shape : k * n \n",
    "A = np.array(cnum_client)\n",
    "client_vols = A.sum(axis=1)\n",
    "client_sort = (-client_vols).argsort()"
   ]
  },
  {
   "cell_type": "code",
   "execution_count": 4,
   "metadata": {},
   "outputs": [
    {
     "data": {
      "text/plain": [
       "(50, 10)"
      ]
     },
     "execution_count": 4,
     "metadata": {},
     "output_type": "execute_result"
    }
   ],
   "source": [
    "A.shape"
   ]
  },
  {
   "cell_type": "code",
   "execution_count": 28,
   "metadata": {},
   "outputs": [
    {
     "name": "stdout",
     "output_type": "stream",
     "text": [
      "32\n"
     ]
    },
    {
     "name": "stderr",
     "output_type": "stream",
     "text": [
      "100%|██████████| 1000/1000 [00:03<00:00, 322.38it/s]\n"
     ]
    }
   ],
   "source": [
    "import copy\n",
    "num_random = 1000\n",
    "# pp_solutions = [[] for i in range(16)]\n",
    "pp_solutions = []\n",
    "sample_client_sort = (-A.sum(axis=1)).argsort()\n",
    "num_sample_client = A.sum(axis=1)\n",
    "choice_clients = np.where(num_sample_client >= 20)[0].tolist()\n",
    "print(len(choice_clients))\n",
    "\n",
    "for i in tqdm(range(num_random)):\n",
    "    selected_client = []\n",
    "    clients = choice_clients.copy()\n",
    "    for j in range(10):\n",
    "        selected_client.append(random.choice(clients))\n",
    "        clients.remove(selected_client[-1])\n",
    "    A_matrix = A[selected_client]\n",
    "    A_matrix = A_matrix / (np.expand_dims(A_matrix.sum(axis=1), axis=-1))\n",
    "    C = per_client_accuracy[:, selected_client]\n",
    "    C = torch.Tensor(C)\n",
    "    try:\n",
    "        x = torch.linalg.solve(torch.Tensor(A_matrix).T, torch.ones((10, 1)) * 0.1)\n",
    "        if torch.any(x < 0) | torch.any(x > 1):\n",
    "            continue\n",
    "        solution = C @ x\n",
    "        pp_solutions.append(solution)\n",
    "    except torch.linalg.LinAlgError:\n",
    "        continue"
   ]
  },
  {
   "cell_type": "code",
   "execution_count": 29,
   "metadata": {},
   "outputs": [],
   "source": [
    "server_cert_result = np.array(record_data['server_certify_acc'])\n",
    "client_vols = np.array(cnum_client).sum(axis=1) / np.array(cnum_client).sum()\n",
    "client_vols = np.expand_dims(client_vols, axis=-1)\n",
    "client_cert_result = per_client_accuracy @ client_vols"
   ]
  },
  {
   "cell_type": "code",
   "execution_count": 30,
   "metadata": {},
   "outputs": [
    {
     "data": {
      "text/plain": [
       "<matplotlib.legend.Legend at 0x7f80aa6d97f0>"
      ]
     },
     "execution_count": 30,
     "metadata": {},
     "output_type": "execute_result"
    },
    {
     "data": {
      "image/png": "[encoded data removed]",
      "text/plain": [
       "<Figure size 640x480 with 1 Axes>"
      ]
     },
     "metadata": {},
     "output_type": "display_data"
    }
   ],
   "source": [
    "final_solution = 0\n",
    "for solution in pp_solutions:\n",
    "    final_solution = final_solution + solution\n",
    "final_solution = final_solution / len(pp_solutions)\n",
    "plt.clf()\n",
    "plt.plot(server_cert_result, label=\"ground truth\")\n",
    "plt.plot(client_cert_result, label=\"volume-based aggregation\")\n",
    "plt.plot(final_solution, label=\"proposal\")\n",
    "plt.xlabel(\"test radius\")\n",
    "plt.ylabel(\"certified accuracy\")\n",
    "\n",
    "# for solution in pp_solutions:\n",
    "#     plt.plot(solution)\n",
    "plt.legend()"
   ]
  },
  {
   "cell_type": "code",
   "execution_count": 1,
   "metadata": {},
   "outputs": [
    {
     "data": {
      "text/plain": [
       "tensor([0.1000])"
      ]
     },
     "execution_count": 1,
     "metadata": {},
     "output_type": "execute_result"
    }
   ],
   "source": [
    "import torch\n",
    "L = torch.ones(1) * 0.1 \n",
    "L"
   ]
  },
  {
   "cell_type": "code",
   "execution_count": 4,
   "metadata": {},
   "outputs": [
    {
     "data": {
      "text/plain": [
       "False"
      ]
     },
     "execution_count": 4,
     "metadata": {},
     "output_type": "execute_result"
    }
   ],
   "source": [
    "L.requires_grad"
   ]
  },
  {
   "cell_type": "code",
   "execution_count": null,
   "metadata": {},
   "outputs": [],
   "source": []
  }
 ],
 "metadata": {
  "kernelspec": {
   "display_name": "thangpv",
   "language": "python",
   "name": "python3"
  },
  "language_info": {
   "codemirror_mode": {
    "name": "ipython",
    "version": 3
   },
   "file_extension": ".py",
   "mimetype": "text/x-python",
   "name": "python",
   "nbconvert_exporter": "python",
   "pygments_lexer": "ipython3",
   "version": "3.9.13"
  },
  "orig_nbformat": 4
 },
 "nbformat": 4,
 "nbformat_minor": 2
}
